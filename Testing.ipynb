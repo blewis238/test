{
 "cells": [
  {
   "cell_type": "markdown",
   "id": "44591596",
   "metadata": {},
   "source": [
    "A unittest  class is typically used for writing and running automated tests on individual units or components of code, such as functions or methods. When you run unit tests, the results are used to determine wheter the code being tested behaves as expected and meets its requirements.\n",
    "\n",
    "Passing tests: The unit of code being tested produces the expected output or behavior.\n",
    "Failing tests: The unit of code did not produce the expected result.\n",
    "Error tests: Sometimes a test may result in an error rather than a pass or fail.\n",
    "Test coverage: Measures how much of your code is being exercised by your tests."
   ]
  }
 ],
 "metadata": {
  "kernelspec": {
   "display_name": "Python 3 (ipykernel)",
   "language": "python",
   "name": "python3"
  },
  "language_info": {
   "codemirror_mode": {
    "name": "ipython",
    "version": 3
   },
   "file_extension": ".py",
   "mimetype": "text/x-python",
   "name": "python",
   "nbconvert_exporter": "python",
   "pygments_lexer": "ipython3",
   "version": "3.11.4"
  }
 },
 "nbformat": 4,
 "nbformat_minor": 5
}
